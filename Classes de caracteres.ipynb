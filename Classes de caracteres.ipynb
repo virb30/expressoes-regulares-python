{
 "cells": [
  {
   "cell_type": "markdown",
   "metadata": {},
   "source": [
    "# Classes de caracteres\n",
    "\n",
    "Nas expressões regulares classes de caracteres são declaradas com colchetes `[]`, utilizando esse pattern a expressão regular irá fazer o match, um caracter por vez, como se fosse uma expressão *or*\n"
   ]
  },
  {
   "cell_type": "code",
   "execution_count": 1,
   "metadata": {},
   "outputs": [],
   "source": [
    "import re\n",
    "from re import findall, match, search"
   ]
  },
  {
   "cell_type": "code",
   "execution_count": 2,
   "metadata": {},
   "outputs": [
    {
     "data": {
      "text/plain": [
       "['i', 'i', 'i', 'u', 'o', 'o', 'a']"
      ]
     },
     "execution_count": 2,
     "metadata": {},
     "output_type": "execute_result"
    }
   ],
   "source": [
    "# retorna todos as vogais\n",
    "findall('[aeiou]', 'Vinicius Boscoa')"
   ]
  },
  {
   "cell_type": "markdown",
   "metadata": {},
   "source": [
    "Se o caracter `^` for utilizando dentro dos colchetes, seu significado é *negação* "
   ]
  },
  {
   "cell_type": "code",
   "execution_count": 4,
   "metadata": {},
   "outputs": [
    {
     "data": {
      "text/plain": [
       "['V', 'n', 'c', 's', ' ', 'B', 's', 'c']"
      ]
     },
     "execution_count": 4,
     "metadata": {},
     "output_type": "execute_result"
    }
   ],
   "source": [
    "# retorna todas as não vogais (incluindo espaço)\n",
    "findall('[^aeiou]', 'Vinicius Boscoa')"
   ]
  },
  {
   "cell_type": "markdown",
   "metadata": {},
   "source": [
    "É possível utilizar ranges nas classes de caracteres.\n",
    "\n",
    "Para isso, basta separar os limites por hífen `-`"
   ]
  },
  {
   "cell_type": "code",
   "execution_count": 11,
   "metadata": {},
   "outputs": [
    {
     "data": {
      "text/plain": [
       "['c', 'c', 'a']"
      ]
     },
     "execution_count": 11,
     "metadata": {},
     "output_type": "execute_result"
    }
   ],
   "source": [
    "# retorna todos os caracteres entre a e f presentes na string\n",
    "findall('[a-f]', 'Vinicius Boscoa')"
   ]
  },
  {
   "cell_type": "markdown",
   "metadata": {},
   "source": [
    "É possível combinar múltiplos ranges"
   ]
  },
  {
   "cell_type": "code",
   "execution_count": 12,
   "metadata": {},
   "outputs": [
    {
     "data": {
      "text/plain": [
       "['c', 'B', 'c', 'a']"
      ]
     },
     "execution_count": 12,
     "metadata": {},
     "output_type": "execute_result"
    }
   ],
   "source": [
    "# retorna todos os caracteres entre a e f (minúsculo) e A e F (maiúsculo) presentes na string\n",
    "findall('[a-fA-F]', 'Vinicius Boscoa')"
   ]
  },
  {
   "cell_type": "code",
   "execution_count": 13,
   "metadata": {},
   "outputs": [
    {
     "data": {
      "text/plain": [
       "['V', 'i', 'n', 'i', 'c', 'i', 'u', 's', 'B', 'o', 's', 'c', 'o', 'a']"
      ]
     },
     "execution_count": 13,
     "metadata": {},
     "output_type": "execute_result"
    }
   ],
   "source": [
    "findall('[a-zA-Z0-9_]', 'Vinicius Boscoa')"
   ]
  },
  {
   "cell_type": "markdown",
   "metadata": {},
   "source": [
    "### Sequências especiais\n",
    "\n",
    "Algumas expressões regulares são comumente utilizadas, portanto existem algumas sequências especiais definidas por padrão, algumas delas são:\n",
    "\n",
    "- `\\w` == `[a-zA-Z0-9_]`\n",
    "- `\\W` == `[^a-zA-Z0-9_]`\n",
    "- `\\d` == `[0-9]`\n",
    "- `\\D` == `[^0-9]`\n",
    "- `\\s` == `[\\t\\n\\r\\f\\v]`\n",
    "- `\\S` == `[^\\t\\n\\r\\f\\v]`"
   ]
  }
 ],
 "metadata": {
  "kernelspec": {
   "display_name": "Python 3",
   "language": "python",
   "name": "python3"
  },
  "language_info": {
   "codemirror_mode": {
    "name": "ipython",
    "version": 3
   },
   "file_extension": ".py",
   "mimetype": "text/x-python",
   "name": "python",
   "nbconvert_exporter": "python",
   "pygments_lexer": "ipython3",
   "version": "3.8.5"
  }
 },
 "nbformat": 4,
 "nbformat_minor": 4
}
